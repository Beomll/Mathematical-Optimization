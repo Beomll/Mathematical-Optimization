{
  "nbformat": 4,
  "nbformat_minor": 0,
  "metadata": {
    "colab": {
      "provenance": []
    },
    "kernelspec": {
      "name": "python3",
      "display_name": "Python 3"
    },
    "language_info": {
      "name": "python"
    }
  },
  "cells": [
    {
      "cell_type": "markdown",
      "source": [
        "# Week1\n"
      ],
      "metadata": {
        "id": "qtMoJ5dXCTPP"
      }
    },
    {
      "cell_type": "code",
      "execution_count": null,
      "metadata": {
        "id": "GJdUYf9swshW",
        "colab": {
          "base_uri": "https://localhost:8080/"
        },
        "outputId": "a12c8810-b0b3-476b-cc96-565cbf5f71e1"
      },
      "outputs": [
        {
          "output_type": "stream",
          "name": "stdout",
          "text": [
            "2432902008176640000\n"
          ]
        }
      ],
      "source": [
        "fact = 1\n",
        "for i in range(20, 0, -1):\n",
        "  fact = fact*i\n",
        "print(fact)\n"
      ]
    },
    {
      "cell_type": "markdown",
      "source": [
        "# Week2\n"
      ],
      "metadata": {
        "id": "ZZCKj8mRCX3_"
      }
    },
    {
      "cell_type": "code",
      "source": [
        "score = 50\n",
        "\n",
        "if score > 50:\n",
        "  print(\"P\")\n",
        "else:\n",
        "  print(\"NP\")"
      ],
      "metadata": {
        "colab": {
          "base_uri": "https://localhost:8080/"
        },
        "id": "kUIEIEdACXTn",
        "outputId": "cd9ab1b0-b0b7-4ef7-90ca-bf42dd9a3759"
      },
      "execution_count": null,
      "outputs": [
        {
          "output_type": "stream",
          "name": "stdout",
          "text": [
            "NP\n"
          ]
        }
      ]
    },
    {
      "cell_type": "code",
      "source": [
        "def fact(n):\n",
        "  mult = 1\n",
        "  for k in range(2, n+1):\n",
        "    mult = mult*k\n",
        "  return mult\n",
        "\n",
        "fact(5)"
      ],
      "metadata": {
        "id": "FKf6OVGlddX_",
        "colab": {
          "base_uri": "https://localhost:8080/"
        },
        "outputId": "dac4cab7-5687-4ca5-fdb6-95c50b0c7200"
      },
      "execution_count": null,
      "outputs": [
        {
          "output_type": "execute_result",
          "data": {
            "text/plain": [
              "120"
            ]
          },
          "metadata": {},
          "execution_count": 2
        }
      ]
    },
    {
      "cell_type": "code",
      "source": [
        "import numpy as np"
      ],
      "metadata": {
        "id": "plsakXjgFJaM"
      },
      "execution_count": null,
      "outputs": []
    },
    {
      "cell_type": "code",
      "source": [
        "x = np.array([1, 2, 3, 4])\n",
        "y = np.array([2, 3, 4, 5])\n",
        "print(x)\n",
        "print(type(x))\n",
        "print(y)\n",
        "print(x*y)\n",
        "\n",
        "y = y.T\n",
        "print(y)\n",
        "\n",
        "print(x*y)"
      ],
      "metadata": {
        "colab": {
          "base_uri": "https://localhost:8080/"
        },
        "id": "rOR1H71tGAJP",
        "outputId": "225c35d8-0870-4cb0-ee6a-43993bb27b98"
      },
      "execution_count": null,
      "outputs": [
        {
          "output_type": "stream",
          "name": "stdout",
          "text": [
            "[1 2 3 4]\n",
            "<class 'numpy.ndarray'>\n",
            "[2 3 4 5]\n",
            "[ 2  6 12 20]\n",
            "[2 3 4 5]\n",
            "[ 2  6 12 20]\n"
          ]
        }
      ]
    },
    {
      "cell_type": "code",
      "source": [
        "a = np.array([[1, 2],\n",
        "             [3, 4]])\n",
        "\n",
        "b = np.array([[1, 0],\n",
        "              [0, 4]])\n",
        "\n",
        "print(a*b)\n",
        "\n"
      ],
      "metadata": {
        "colab": {
          "base_uri": "https://localhost:8080/"
        },
        "id": "6zTykhAaGaX9",
        "outputId": "25b45ad6-2204-4f4b-a923-c2d0d171db37"
      },
      "execution_count": null,
      "outputs": [
        {
          "output_type": "stream",
          "name": "stdout",
          "text": [
            "[[ 1  0]\n",
            " [ 0 16]]\n"
          ]
        }
      ]
    },
    {
      "cell_type": "code",
      "source": [],
      "metadata": {
        "id": "zhO2GPMxH69e"
      },
      "execution_count": null,
      "outputs": []
    },
    {
      "cell_type": "markdown",
      "source": [
        "# Week5"
      ],
      "metadata": {
        "id": "k5L_v8wwavGp"
      }
    },
    {
      "cell_type": "code",
      "source": [
        "# Initialize\n",
        "x0, y0 = 1.0, 2.0\n",
        "eps = 1e-8\n",
        "t = 1e-3\n",
        "# t가 커질수록 더 빨리 수렴함"
      ],
      "metadata": {
        "id": "1B4GwNWDatZ0"
      },
      "execution_count": null,
      "outputs": []
    },
    {
      "cell_type": "code",
      "source": [
        "# GD\n",
        "xk, yk = x0, y0\n",
        "k = 0\n",
        "\n",
        "while True:\n",
        "  tk = t\n",
        "  # 1. delta xk = -grad f(xk)\n",
        "  delta_xk = -xk + 2*yk\n",
        "  delta_yk = 2*xk - 8*yk\n",
        "  # 2. xkp1 = xk + tk*(delta xk)\n",
        "  xkp1 = xk + tk*delta_xk\n",
        "  ykp1 = yk + tk*delta_yk\n",
        "\n",
        "  if (xkp1 - xk)**2 + (ykp1 - yk)**2 < eps**2:\n",
        "    print(\"Converge at iter = \", k)\n",
        "    break\n",
        "\n",
        "  xk, yk = xkp1, ykp1\n",
        "\n",
        "  k += 1"
      ],
      "metadata": {
        "colab": {
          "base_uri": "https://localhost:8080/"
        },
        "id": "KthQHOJka6tD",
        "outputId": "2acfb216-d779-4301-cc26-ac6bc0b77bb6"
      },
      "execution_count": null,
      "outputs": [
        {
          "output_type": "stream",
          "name": "stdout",
          "text": [
            "Converge at iter =  23770\n"
          ]
        }
      ]
    },
    {
      "cell_type": "code",
      "source": [
        "print(xk)\n",
        "print(yk)"
      ],
      "metadata": {
        "colab": {
          "base_uri": "https://localhost:8080/"
        },
        "id": "C3QP1zZSbpfZ",
        "outputId": "3045b804-a8a6-4cd7-aac5-b68a92e0f06a"
      },
      "execution_count": null,
      "outputs": [
        {
          "output_type": "stream",
          "name": "stdout",
          "text": [
            "2.060815521374836e-05\n",
            "5.472793138485839e-06\n"
          ]
        }
      ]
    },
    {
      "cell_type": "markdown",
      "source": [
        "# Week5"
      ],
      "metadata": {
        "id": "hUwfte9YsOiy"
      }
    },
    {
      "cell_type": "code",
      "source": [
        "# GD\n",
        "xk, yk = x0, y0\n",
        "k = 0\n",
        "\n",
        "while True:\n",
        "  # 0. Exact line search (t = gTg/gTAg)\n",
        "  gTg = (-xk + 2*yk)**2 + (2*xk - 8*yk)**2\n",
        "  gTAg = (-xk + 2*yk)**2 - 4*(-xk + 2*yk)*(2*xk - 8*yk) + 8*(2*xk - 8*yk)**2\n",
        "  tk = gTg/gTAg\n",
        "\n",
        "  # 1. delta xk = -grad f(xk)\n",
        "  delta_xk = -xk + 2*yk\n",
        "  delta_yk = 2*xk - 8*yk\n",
        "  # 2. xkp1 = xk + tk*(delta xk)\n",
        "  xkp1 = xk + tk*delta_xk\n",
        "  ykp1 = yk + tk*delta_yk\n",
        "\n",
        "  if (xkp1 - xk)**2 + (ykp1 - yk)**2 < eps**2:\n",
        "    print(\"Converge at iter = \", k)\n",
        "    break\n",
        "\n",
        "  xk, yk = xkp1, ykp1\n",
        "\n",
        "  k += 1"
      ],
      "metadata": {
        "id": "OUUvN4DXb_r6",
        "colab": {
          "base_uri": "https://localhost:8080/"
        },
        "outputId": "a3890ae5-2acd-47b4-eaf5-4b503f769e96"
      },
      "execution_count": null,
      "outputs": [
        {
          "output_type": "stream",
          "name": "stdout",
          "text": [
            "Converge at iter =  12\n"
          ]
        }
      ]
    },
    {
      "cell_type": "code",
      "source": [
        "print(xk)\n",
        "print(yk)"
      ],
      "metadata": {
        "colab": {
          "base_uri": "https://localhost:8080/"
        },
        "id": "XzXfUn-dkyli",
        "outputId": "8f3b6c80-36ae-418b-933e-c6abfe8bea73"
      },
      "execution_count": null,
      "outputs": [
        {
          "output_type": "stream",
          "name": "stdout",
          "text": [
            "2.4339253618541953e-09\n",
            "4.86785072370809e-09\n"
          ]
        }
      ]
    },
    {
      "cell_type": "code",
      "source": [
        "def f(x, y):\n",
        "  return 0.5*(x**2 - 4*x*y + 8*y**2)\n",
        "\n",
        "x0, y0 = 1.0, 2.0\n",
        "eps = 1e-8\n",
        "t = 1.0\n",
        "alpha, beta = 0.3, 0.9"
      ],
      "metadata": {
        "id": "eUq8CtwUkzta"
      },
      "execution_count": null,
      "outputs": []
    },
    {
      "cell_type": "code",
      "source": [
        "# GD\n",
        "xk, yk = x0, y0\n",
        "k = 0\n",
        "\n",
        "while True:\n",
        "  # 0. Backtracking line search\n",
        "  # 1. delta xk = -grad f(xk)\n",
        "  delta_xk = -xk + 2*yk\n",
        "  delta_yk = 2*xk - 8*yk\n",
        "\n",
        "  tk = 1\n",
        "  while True:\n",
        "    LHS = f(xk+tk*delta_xk, yk+tk*delta_yk)\n",
        "    RHS = f(xk, yk)-tk*alpha*(delta_xk**2 + delta_yk**2)\n",
        "\n",
        "    if LHS < RHS: break\n",
        "    tk = beta*tk\n",
        "\n",
        "  # 2. xkp1 = xk + tk*(delta xk)\n",
        "  xkp1 = xk + tk*delta_xk\n",
        "  ykp1 = yk + tk*delta_yk\n",
        "\n",
        "  if (xkp1 - xk)**2 + (ykp1 - yk)**2 < eps**2:\n",
        "    print(\"Converge at iter = \", k)\n",
        "    break\n",
        "\n",
        "  xk, yk = xkp1, ykp1\n",
        "\n",
        "  k += 1"
      ],
      "metadata": {
        "colab": {
          "base_uri": "https://localhost:8080/"
        },
        "id": "GKUpGwGXqVzD",
        "outputId": "da44157a-d648-4cbe-e223-ba19381f64a4"
      },
      "execution_count": null,
      "outputs": [
        {
          "output_type": "stream",
          "name": "stdout",
          "text": [
            "Converge at iter =  157\n"
          ]
        }
      ]
    },
    {
      "cell_type": "code",
      "source": [
        "print(xk)\n",
        "print(yk)"
      ],
      "metadata": {
        "colab": {
          "base_uri": "https://localhost:8080/"
        },
        "id": "dlrW3y5DrC7h",
        "outputId": "89eac632-dcf3-477a-e61b-9038bdf8630a"
      },
      "execution_count": null,
      "outputs": [
        {
          "output_type": "stream",
          "name": "stdout",
          "text": [
            "4.708333166538079e-08\n",
            "7.895305313707068e-09\n"
          ]
        }
      ]
    },
    {
      "cell_type": "code",
      "source": [
        "4.02"
      ],
      "metadata": {
        "id": "ajsgq63_ro1n"
      },
      "execution_count": null,
      "outputs": []
    }
  ]
}