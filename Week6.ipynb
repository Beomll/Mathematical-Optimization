{
 "cells": [
  {
   "cell_type": "code",
   "execution_count": 17,
   "id": "initial_id",
   "metadata": {
    "collapsed": true,
    "ExecuteTime": {
     "end_time": "2024-04-08T02:15:03.908327Z",
     "start_time": "2024-04-08T02:15:03.903057Z"
    }
   },
   "outputs": [],
   "source": [
    "import numpy as np"
   ]
  },
  {
   "cell_type": "code",
   "execution_count": 26,
   "outputs": [],
   "source": [
    "def f(a0, a1, x, y):\n",
    "    N = len(x)\n",
    "    return np.sum((a0 + a1*x - y)**2)/N\n",
    "\n",
    "def dfda0(a0, a1, x, y):\n",
    "    N = len(x)\n",
    "    return 2.0*np.sum((a0 + a1*x - y))/N\n",
    "\n",
    "\n",
    "def dfda1(a0, a1, x, y):\n",
    "    N = len(x)\n",
    "    return 2.0*np.sum((a0 + a1*x - y)*x)/N"
   ],
   "metadata": {
    "collapsed": false,
    "ExecuteTime": {
     "end_time": "2024-04-08T02:17:36.526433Z",
     "start_time": "2024-04-08T02:17:36.522323Z"
    }
   },
   "id": "5b1e8df8c1da81c6"
  },
  {
   "cell_type": "code",
   "execution_count": 30,
   "outputs": [],
   "source": [
    "#\n",
    "x = np.array([1., 2., 3., 4., 5.])\n",
    "y = np.array([1., 3., 5., 3., 7.])\n",
    "\n",
    "a0_0, a1_0 = 0.0, 0.0\n",
    "eps = 1e-8\n",
    "a0_k, a1_k = a0_0, a1_0\n",
    "iter = 0\n",
    "alpha, beta = 0.3, 0.9 # alpha는 기울기, beta는 줄이는거 "
   ],
   "metadata": {
    "collapsed": false,
    "ExecuteTime": {
     "end_time": "2024-04-08T02:21:06.352907Z",
     "start_time": "2024-04-08T02:21:06.350756Z"
    }
   },
   "id": "50b3e37722e1b777"
  },
  {
   "cell_type": "code",
   "execution_count": 31,
   "outputs": [
    {
     "name": "stdout",
     "output_type": "stream",
     "text": [
      "Converges at  460\n"
     ]
    }
   ],
   "source": [
    "# GD\n",
    "while True:\n",
    "    # 1. delta ak = -grad f(ak)\n",
    "    delta_a0_k = -dfda0(a0_k, a1_k, x, y)\n",
    "    delta_a1_k = -dfda1(a0_k, a1_k, x, y)\n",
    "    \n",
    "    # 2. Backtracking line search\n",
    "    tk = 1\n",
    "    while True:\n",
    "        LHS = f(a0_k + tk*delta_a0_k, a1_k + tk*delta_a1_k, x, y)\n",
    "        RHS = f(a0_k, a1_k, x, y) + alpha*tk*(-delta_a0_k**2 - delta_a1_k**2)\n",
    "        if LHS < RHS:\n",
    "            break\n",
    "        tk = beta*tk\n",
    "    \n",
    "    # Update\n",
    "    a0_kp1 = a0_k + tk*delta_a0_k\n",
    "    a1_kp1 = a1_k + tk*delta_a1_k\n",
    "    \n",
    "    if (a0_kp1 - a0_k)**2 + (a1_kp1 - a1_k)**2 < eps**2:\n",
    "        print(\"Converges at \", iter)\n",
    "        break\n",
    "    iter = iter + 1\n",
    "    \n",
    "    a0_k, a1_k = a0_kp1, a1_kp1"
   ],
   "metadata": {
    "collapsed": false,
    "ExecuteTime": {
     "end_time": "2024-04-08T02:21:06.626928Z",
     "start_time": "2024-04-08T02:21:06.552746Z"
    }
   },
   "id": "6d7086ab32d185b7"
  },
  {
   "cell_type": "code",
   "execution_count": 32,
   "outputs": [
    {
     "name": "stdout",
     "output_type": "stream",
     "text": [
      "0.2000002174591535\n",
      "1.199999941330341\n"
     ]
    }
   ],
   "source": [
    "print(a0_kp1)\n",
    "print(a1_kp1)"
   ],
   "metadata": {
    "collapsed": false,
    "ExecuteTime": {
     "end_time": "2024-04-08T02:21:06.637261Z",
     "start_time": "2024-04-08T02:21:06.628805Z"
    }
   },
   "id": "602441c33730dadd"
  },
  {
   "cell_type": "code",
   "execution_count": null,
   "outputs": [],
   "source": [],
   "metadata": {
    "collapsed": false
   },
   "id": "df91566bd854ebd8"
  }
 ],
 "metadata": {
  "kernelspec": {
   "display_name": "Python 3",
   "language": "python",
   "name": "python3"
  },
  "language_info": {
   "codemirror_mode": {
    "name": "ipython",
    "version": 2
   },
   "file_extension": ".py",
   "mimetype": "text/x-python",
   "name": "python",
   "nbconvert_exporter": "python",
   "pygments_lexer": "ipython2",
   "version": "2.7.6"
  }
 },
 "nbformat": 4,
 "nbformat_minor": 5
}
