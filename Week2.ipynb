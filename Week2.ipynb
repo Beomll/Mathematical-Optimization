{
 "cells": [
  {
   "cell_type": "code",
   "execution_count": 1,
   "id": "initial_id",
   "metadata": {
    "collapsed": true,
    "ExecuteTime": {
     "end_time": "2024-04-08T03:46:30.962034Z",
     "start_time": "2024-04-08T03:46:30.957797Z"
    }
   },
   "outputs": [
    {
     "name": "stdout",
     "output_type": "stream",
     "text": [
      "NP\n"
     ]
    }
   ],
   "source": [
    "score = 50\n",
    "\n",
    "if score > 50:\n",
    "  print(\"P\")\n",
    "else:\n",
    "  print(\"NP\")"
   ]
  },
  {
   "cell_type": "code",
   "execution_count": 2,
   "outputs": [
    {
     "data": {
      "text/plain": "120"
     },
     "execution_count": 2,
     "metadata": {},
     "output_type": "execute_result"
    }
   ],
   "source": [
    "def fact(n):\n",
    "  mult = 1\n",
    "  for k in range(2, n+1):\n",
    "    mult = mult*k\n",
    "  return mult\n",
    "\n",
    "fact(5)"
   ],
   "metadata": {
    "collapsed": false,
    "ExecuteTime": {
     "end_time": "2024-04-08T03:46:36.507785Z",
     "start_time": "2024-04-08T03:46:36.500880Z"
    }
   },
   "id": "5f812c1a2183b892"
  },
  {
   "cell_type": "code",
   "execution_count": 3,
   "outputs": [
    {
     "name": "stdout",
     "output_type": "stream",
     "text": [
      "Intel MKL WARNING: Support of Intel(R) Streaming SIMD Extensions 4.2 (Intel(R) SSE4.2) enabled only processors has been deprecated. Intel oneAPI Math Kernel Library 2025.0 will require Intel(R) Advanced Vector Extensions (Intel(R) AVX) instructions.\n",
      "Intel MKL WARNING: Support of Intel(R) Streaming SIMD Extensions 4.2 (Intel(R) SSE4.2) enabled only processors has been deprecated. Intel oneAPI Math Kernel Library 2025.0 will require Intel(R) Advanced Vector Extensions (Intel(R) AVX) instructions.\n"
     ]
    }
   ],
   "source": [
    "import numpy as np"
   ],
   "metadata": {
    "collapsed": false,
    "ExecuteTime": {
     "end_time": "2024-04-08T03:46:45.017723Z",
     "start_time": "2024-04-08T03:46:44.233021Z"
    }
   },
   "id": "7b679246eb144bb7"
  },
  {
   "cell_type": "code",
   "execution_count": 4,
   "outputs": [
    {
     "name": "stdout",
     "output_type": "stream",
     "text": [
      "[1 2 3 4]\n",
      "<class 'numpy.ndarray'>\n",
      "[2 3 4 5]\n",
      "[ 2  6 12 20]\n",
      "[2 3 4 5]\n",
      "[ 2  6 12 20]\n"
     ]
    }
   ],
   "source": [
    "x = np.array([1, 2, 3, 4])\n",
    "y = np.array([2, 3, 4, 5])\n",
    "print(x)\n",
    "print(type(x))\n",
    "print(y)\n",
    "print(x*y)\n",
    "\n",
    "y = y.T\n",
    "print(y)\n",
    "\n",
    "print(x*y)"
   ],
   "metadata": {
    "collapsed": false,
    "ExecuteTime": {
     "end_time": "2024-04-08T03:46:50.032361Z",
     "start_time": "2024-04-08T03:46:50.021046Z"
    }
   },
   "id": "e034a16221d65bda"
  },
  {
   "cell_type": "code",
   "execution_count": 5,
   "outputs": [
    {
     "name": "stdout",
     "output_type": "stream",
     "text": [
      "[[ 1  0]\n",
      " [ 0 16]]\n"
     ]
    }
   ],
   "source": [
    "a = np.array([[1, 2],\n",
    "             [3, 4]])\n",
    "\n",
    "b = np.array([[1, 0],\n",
    "              [0, 4]])\n",
    "\n",
    "print(a*b)"
   ],
   "metadata": {
    "collapsed": false,
    "ExecuteTime": {
     "end_time": "2024-04-08T03:46:55.977728Z",
     "start_time": "2024-04-08T03:46:55.966782Z"
    }
   },
   "id": "84e0ff630acc5f22"
  },
  {
   "cell_type": "code",
   "execution_count": null,
   "outputs": [],
   "source": [],
   "metadata": {
    "collapsed": false
   },
   "id": "e27e75e81a2a2e4d"
  }
 ],
 "metadata": {
  "kernelspec": {
   "display_name": "Python 3",
   "language": "python",
   "name": "python3"
  },
  "language_info": {
   "codemirror_mode": {
    "name": "ipython",
    "version": 2
   },
   "file_extension": ".py",
   "mimetype": "text/x-python",
   "name": "python",
   "nbconvert_exporter": "python",
   "pygments_lexer": "ipython2",
   "version": "2.7.6"
  }
 },
 "nbformat": 4,
 "nbformat_minor": 5
}
