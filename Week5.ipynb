{
 "cells": [
  {
   "cell_type": "code",
   "execution_count": 1,
   "id": "initial_id",
   "metadata": {
    "collapsed": true,
    "ExecuteTime": {
     "end_time": "2024-04-08T03:47:14.638786Z",
     "start_time": "2024-04-08T03:47:14.636342Z"
    }
   },
   "outputs": [],
   "source": [
    "# Initialize\n",
    "x0, y0 = 1.0, 2.0\n",
    "eps = 1e-8\n",
    "t = 1e-3\n",
    "# t가 커질수록 더 빨리 수렴함"
   ]
  },
  {
   "cell_type": "code",
   "execution_count": 2,
   "outputs": [
    {
     "name": "stdout",
     "output_type": "stream",
     "text": [
      "Converge at iter =  23770\n"
     ]
    }
   ],
   "source": [
    "# GD\n",
    "xk, yk = x0, y0\n",
    "k = 0\n",
    "\n",
    "while True:\n",
    "  tk = t\n",
    "  # 1. delta xk = -grad f(xk)\n",
    "  delta_xk = -xk + 2*yk\n",
    "  delta_yk = 2*xk - 8*yk\n",
    "  # 2. xkp1 = xk + tk*(delta xk)\n",
    "  xkp1 = xk + tk*delta_xk\n",
    "  ykp1 = yk + tk*delta_yk\n",
    "\n",
    "  if (xkp1 - xk)**2 + (ykp1 - yk)**2 < eps**2:\n",
    "    print(\"Converge at iter = \", k)\n",
    "    break\n",
    "\n",
    "  xk, yk = xkp1, ykp1\n",
    "\n",
    "  k += 1"
   ],
   "metadata": {
    "collapsed": false,
    "ExecuteTime": {
     "end_time": "2024-04-08T03:47:19.919140Z",
     "start_time": "2024-04-08T03:47:19.917329Z"
    }
   },
   "id": "1daf8dddaace1b82"
  },
  {
   "cell_type": "code",
   "execution_count": 3,
   "outputs": [
    {
     "name": "stdout",
     "output_type": "stream",
     "text": [
      "2.060815521374836e-05\n",
      "5.472793138485839e-06\n"
     ]
    }
   ],
   "source": [
    "print(xk)\n",
    "print(yk)"
   ],
   "metadata": {
    "collapsed": false,
    "ExecuteTime": {
     "end_time": "2024-04-08T03:47:25.583146Z",
     "start_time": "2024-04-08T03:47:25.570837Z"
    }
   },
   "id": "f8e65e8e8c83bd66"
  },
  {
   "cell_type": "code",
   "execution_count": 4,
   "outputs": [
    {
     "name": "stdout",
     "output_type": "stream",
     "text": [
      "Converge at iter =  12\n"
     ]
    }
   ],
   "source": [
    "# GD\n",
    "xk, yk = x0, y0\n",
    "k = 0\n",
    "\n",
    "while True:\n",
    "  # 0. Exact line search (t = gTg/gTAg)\n",
    "  gTg = (-xk + 2*yk)**2 + (2*xk - 8*yk)**2\n",
    "  gTAg = (-xk + 2*yk)**2 - 4*(-xk + 2*yk)*(2*xk - 8*yk) + 8*(2*xk - 8*yk)**2\n",
    "  tk = gTg/gTAg\n",
    "\n",
    "  # 1. delta xk = -grad f(xk)\n",
    "  delta_xk = -xk + 2*yk\n",
    "  delta_yk = 2*xk - 8*yk\n",
    "  # 2. xkp1 = xk + tk*(delta xk)\n",
    "  xkp1 = xk + tk*delta_xk\n",
    "  ykp1 = yk + tk*delta_yk\n",
    "\n",
    "  if (xkp1 - xk)**2 + (ykp1 - yk)**2 < eps**2:\n",
    "    print(\"Converge at iter = \", k)\n",
    "    break\n",
    "\n",
    "  xk, yk = xkp1, ykp1\n",
    "\n",
    "  k += 1"
   ],
   "metadata": {
    "collapsed": false,
    "ExecuteTime": {
     "end_time": "2024-04-08T03:47:44.544512Z",
     "start_time": "2024-04-08T03:47:44.541843Z"
    }
   },
   "id": "a10f19dbb042c49c"
  },
  {
   "cell_type": "code",
   "execution_count": 5,
   "outputs": [
    {
     "name": "stdout",
     "output_type": "stream",
     "text": [
      "2.4339253618541953e-09\n",
      "4.86785072370809e-09\n"
     ]
    }
   ],
   "source": [
    "print(xk)\n",
    "print(yk)"
   ],
   "metadata": {
    "collapsed": false,
    "ExecuteTime": {
     "end_time": "2024-04-08T03:47:48.472892Z",
     "start_time": "2024-04-08T03:47:48.467248Z"
    }
   },
   "id": "5432cf930bcd5962"
  },
  {
   "cell_type": "code",
   "execution_count": 6,
   "outputs": [],
   "source": [
    "def f(x, y):\n",
    "  return 0.5*(x**2 - 4*x*y + 8*y**2)\n",
    "\n",
    "x0, y0 = 1.0, 2.0\n",
    "eps = 1e-8\n",
    "t = 1.0\n",
    "alpha, beta = 0.3, 0.9"
   ],
   "metadata": {
    "collapsed": false,
    "ExecuteTime": {
     "end_time": "2024-04-08T03:47:53.931527Z",
     "start_time": "2024-04-08T03:47:53.927379Z"
    }
   },
   "id": "f55ab37534177706"
  },
  {
   "cell_type": "code",
   "execution_count": 7,
   "outputs": [
    {
     "name": "stdout",
     "output_type": "stream",
     "text": [
      "Converge at iter =  157\n"
     ]
    }
   ],
   "source": [
    "# GD\n",
    "xk, yk = x0, y0\n",
    "k = 0\n",
    "\n",
    "while True:\n",
    "  # 0. Backtracking line search\n",
    "  # 1. delta xk = -grad f(xk)\n",
    "  delta_xk = -xk + 2*yk\n",
    "  delta_yk = 2*xk - 8*yk\n",
    "\n",
    "  tk = 1\n",
    "  while True:\n",
    "    LHS = f(xk+tk*delta_xk, yk+tk*delta_yk)\n",
    "    RHS = f(xk, yk)-tk*alpha*(delta_xk**2 + delta_yk**2)\n",
    "\n",
    "    if LHS < RHS: break\n",
    "    tk = beta*tk\n",
    "\n",
    "  # 2. xkp1 = xk + tk*(delta xk)\n",
    "  xkp1 = xk + tk*delta_xk\n",
    "  ykp1 = yk + tk*delta_yk\n",
    "\n",
    "  if (xkp1 - xk)**2 + (ykp1 - yk)**2 < eps**2:\n",
    "    print(\"Converge at iter = \", k)\n",
    "    break\n",
    "\n",
    "  xk, yk = xkp1, ykp1\n",
    "\n",
    "  k += 1"
   ],
   "metadata": {
    "collapsed": false,
    "ExecuteTime": {
     "end_time": "2024-04-08T03:47:57.131969Z",
     "start_time": "2024-04-08T03:47:57.121771Z"
    }
   },
   "id": "a65f7997746406e9"
  },
  {
   "cell_type": "code",
   "execution_count": 8,
   "outputs": [
    {
     "name": "stdout",
     "output_type": "stream",
     "text": [
      "4.708333166538079e-08\n",
      "7.895305313707068e-09\n"
     ]
    }
   ],
   "source": [
    "print(xk)\n",
    "print(yk)"
   ],
   "metadata": {
    "collapsed": false,
    "ExecuteTime": {
     "end_time": "2024-04-08T03:48:02.114954Z",
     "start_time": "2024-04-08T03:48:02.108375Z"
    }
   },
   "id": "4ecade7f135e89a"
  },
  {
   "cell_type": "code",
   "execution_count": 9,
   "outputs": [
    {
     "data": {
      "text/plain": "4.02"
     },
     "execution_count": 9,
     "metadata": {},
     "output_type": "execute_result"
    }
   ],
   "source": [
    "4.02"
   ],
   "metadata": {
    "collapsed": false,
    "ExecuteTime": {
     "end_time": "2024-04-08T03:48:05.173147Z",
     "start_time": "2024-04-08T03:48:05.162588Z"
    }
   },
   "id": "72fdacd5e60dfb37"
  },
  {
   "cell_type": "code",
   "execution_count": null,
   "outputs": [],
   "source": [],
   "metadata": {
    "collapsed": false
   },
   "id": "2e2b728acfdade5a"
  }
 ],
 "metadata": {
  "kernelspec": {
   "display_name": "Python 3",
   "language": "python",
   "name": "python3"
  },
  "language_info": {
   "codemirror_mode": {
    "name": "ipython",
    "version": 2
   },
   "file_extension": ".py",
   "mimetype": "text/x-python",
   "name": "python",
   "nbconvert_exporter": "python",
   "pygments_lexer": "ipython2",
   "version": "2.7.6"
  }
 },
 "nbformat": 4,
 "nbformat_minor": 5
}
